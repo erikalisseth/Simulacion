{
 "cells": [
  {
   "cell_type": "markdown",
   "metadata": {},
   "source": [
    "## Universidad Politecnica Salesiana \n",
    "## Examen\n",
    "### Nombre: Erika Morocho\n",
    "### Asignatura: Simulación\n"
   ]
  },
  {
   "cell_type": "markdown",
   "metadata": {},
   "source": [
    "**Objetivo:**\n",
    "\n",
    "    • Consolidar los conocimientos adquiridos en clase para desarrollar simulaciones de eventos.\n",
    "\n",
    "**Introducción:**\n",
    "\n",
    "El golpe económico de la crisis sanitaria del corona virus no va a ser cosa de semanas, sino de meses. Dentro de una de las etapas importantes que están a la vuelta de la esquina son las elecciones presidenciales y asambleístas del Ecuador. Para ello se plantea realizar un sistema de regresión que permita identificar cual es la tendencia de los votos en base al manejo de las redes sociales (Twitter y/o Facebook)\n",
    "Las regresiones lineales pueden aprenden por sí mismos y en este caso obtener automáticamente esa “recta” que buscamos con la tendencia de predicción. Para hacerlo se mide el error con respecto a los puntos de entrada y el valor “Y” de salida real [3]."
   ]
  },
  {
   "cell_type": "markdown",
   "metadata": {},
   "source": [
    "**Diseñe y desarrolle un modelo y/o script que permita simular el siguiente caso real:**\n",
    "   \n",
    "   1. Obtener datos de tendencia de twitter para ello se puede obtener a través del API \n",
    "     \n",
    "        * Title: Titulo del Post/Twitter\n",
    "        * Word count: la cantidad de palabras del artículo,\n",
    "        * numero of Links: los enlaces externos que contiene,\n",
    "        * numero of comments: cantidad de comentarios,\n",
    "        * numero Shares: compartidos.\n",
    "        * HashTag\n",
    "        \n",
    "   2. Posteriormente se debe seguir un procesos de votación de eventos discretos que se describe a continuación:\n",
    "    \n",
    "       * Solo se va a tener en cuanta las elecciones de los asambleístas por el Azuay.\n",
    "       * Las personas solo tiene un recinto electoral para realizar el proceso.\n",
    "       * Las personas solo pueden realizar un proceso de elección por asambleísta del Azuay.\n",
    "       * La persona se acerca a la mesa electoral y hacen fila en caso de ser necesario.\n",
    "       * Realiza el voto en un tiempo aleatorio de un partido especifico.\n",
    "       * La persona recibe su certificado votación.\n"
   ]
  },
  {
   "cell_type": "code",
   "execution_count": 1,
   "metadata": {},
   "outputs": [],
   "source": [
    "import tweepy\n",
    "from time import sleep\n",
    "from datetime import datetime\n",
    "from textblob import TextBlob \n",
    "import matplotlib.pyplot as plt \n",
    "import pandas as pd\n",
    "import numpy as np\n",
    "import tweepy as tw\n",
    "import random \n",
    "import pylab as py\n",
    "import simpy\n",
    "import numpy as np\n",
    "import pandas as pd\n",
    "from tweepy import OAuthHandler\n",
    "import matplotlib.pyplot as plt\n",
    "from sklearn.linear_model import LinearRegression \n",
    "from sklearn.preprocessing import PolynomialFeatures \n",
    "from scipy.optimize import curve_fit\n",
    "import seaborn as sns\n",
    "%matplotlib inline"
   ]
  },
  {
   "cell_type": "code",
   "execution_count": 2,
   "metadata": {},
   "outputs": [],
   "source": [
    "consumer_key = 'CLxAMh7h8Tqr0H35UUo7V4wDL'\n",
    "consumer_secret = 'wuIvj5DwQZBYLRAOW3KtJJXOT1WtmoHQmq8KVzyJDk67aB62zH'\n",
    "access_token = '1330313200114544640-fsKAhyL6g5XVXFb6bfLJtqTGTq4PQy'\n",
    "access_token_secret = 'TqqaxiUVaUrryaRlJzvhPZawZAgogsIJPFU1eOB57w3G1'"
   ]
  },
  {
   "cell_type": "code",
   "execution_count": 3,
   "metadata": {},
   "outputs": [
    {
     "name": "stdout",
     "output_type": "stream",
     "text": [
      "Lisseth\n"
     ]
    }
   ],
   "source": [
    "auth = tweepy.OAuthHandler(consumer_key, consumer_secret)\n",
    "auth.set_access_token(access_token, access_token_secret)\n",
    "api = tweepy.API(auth)\n",
    "print(api.me().name) "
   ]
  },
  {
   "cell_type": "code",
   "execution_count": 4,
   "metadata": {},
   "outputs": [],
   "source": [
    "Buscar = 'Azuay'"
   ]
  },
  {
   "cell_type": "code",
   "execution_count": 5,
   "metadata": {},
   "outputs": [],
   "source": [
    "ts = api.search(Buscar, lang=\"es\", count=100, result_type='popular')"
   ]
  },
  {
   "cell_type": "code",
   "execution_count": 19,
   "metadata": {},
   "outputs": [
    {
     "data": {
      "text/html": [
       "<div>\n",
       "<style scoped>\n",
       "    .dataframe tbody tr th:only-of-type {\n",
       "        vertical-align: middle;\n",
       "    }\n",
       "\n",
       "    .dataframe tbody tr th {\n",
       "        vertical-align: top;\n",
       "    }\n",
       "\n",
       "    .dataframe thead th {\n",
       "        text-align: right;\n",
       "    }\n",
       "</style>\n",
       "<table border=\"1\" class=\"dataframe\">\n",
       "  <thead>\n",
       "    <tr style=\"text-align: right;\">\n",
       "      <th></th>\n",
       "      <th>Usuario</th>\n",
       "      <th>Fuente</th>\n",
       "      <th>Longitud</th>\n",
       "      <th>RTs</th>\n",
       "      <th>Likes</th>\n",
       "      <th>seguidores</th>\n",
       "      <th>Fecha</th>\n",
       "    </tr>\n",
       "  </thead>\n",
       "  <tbody>\n",
       "    <tr>\n",
       "      <th>0</th>\n",
       "      <td>El Universo</td>\n",
       "      <td>Hootsuite Inc.</td>\n",
       "      <td>139</td>\n",
       "      <td>47</td>\n",
       "      <td>296</td>\n",
       "      <td>2214479</td>\n",
       "      <td>2020-12-20 13:40:03</td>\n",
       "    </tr>\n",
       "    <tr>\n",
       "      <th>1</th>\n",
       "      <td>cnegobec</td>\n",
       "      <td>Twitter for Android</td>\n",
       "      <td>127</td>\n",
       "      <td>22</td>\n",
       "      <td>11</td>\n",
       "      <td>244715</td>\n",
       "      <td>2020-12-20 13:50:33</td>\n",
       "    </tr>\n",
       "    <tr>\n",
       "      <th>2</th>\n",
       "      <td>El Universo</td>\n",
       "      <td>Hootsuite Inc.</td>\n",
       "      <td>140</td>\n",
       "      <td>23</td>\n",
       "      <td>167</td>\n",
       "      <td>2214479</td>\n",
       "      <td>2020-12-20 17:01:24</td>\n",
       "    </tr>\n",
       "    <tr>\n",
       "      <th>3</th>\n",
       "      <td>Movimiento Alianza PAIS</td>\n",
       "      <td>Twitter for iPhone</td>\n",
       "      <td>139</td>\n",
       "      <td>24</td>\n",
       "      <td>26</td>\n",
       "      <td>309652</td>\n",
       "      <td>2020-12-19 21:57:46</td>\n",
       "    </tr>\n",
       "    <tr>\n",
       "      <th>4</th>\n",
       "      <td>Policía Ecuador</td>\n",
       "      <td>Twitter for Android</td>\n",
       "      <td>140</td>\n",
       "      <td>8</td>\n",
       "      <td>26</td>\n",
       "      <td>1111892</td>\n",
       "      <td>2020-12-20 23:11:19</td>\n",
       "    </tr>\n",
       "    <tr>\n",
       "      <th>5</th>\n",
       "      <td>Andrés Arauz</td>\n",
       "      <td>Twitter for iPhone</td>\n",
       "      <td>140</td>\n",
       "      <td>755</td>\n",
       "      <td>1856</td>\n",
       "      <td>55903</td>\n",
       "      <td>2020-12-16 17:44:42</td>\n",
       "    </tr>\n",
       "    <tr>\n",
       "      <th>6</th>\n",
       "      <td>Movimiento Alianza PAIS</td>\n",
       "      <td>Twitter for Android</td>\n",
       "      <td>139</td>\n",
       "      <td>25</td>\n",
       "      <td>29</td>\n",
       "      <td>309652</td>\n",
       "      <td>2020-12-18 22:29:34</td>\n",
       "    </tr>\n",
       "    <tr>\n",
       "      <th>7</th>\n",
       "      <td>Andrés Arauz</td>\n",
       "      <td>Twitter for iPhone</td>\n",
       "      <td>140</td>\n",
       "      <td>391</td>\n",
       "      <td>1236</td>\n",
       "      <td>55903</td>\n",
       "      <td>2020-12-18 03:55:04</td>\n",
       "    </tr>\n",
       "    <tr>\n",
       "      <th>8</th>\n",
       "      <td>Riesgos Ecuador</td>\n",
       "      <td>Twitter Web App</td>\n",
       "      <td>140</td>\n",
       "      <td>23</td>\n",
       "      <td>11</td>\n",
       "      <td>585984</td>\n",
       "      <td>2020-12-18 21:03:42</td>\n",
       "    </tr>\n",
       "    <tr>\n",
       "      <th>9</th>\n",
       "      <td>cnegobec</td>\n",
       "      <td>Twitter for Android</td>\n",
       "      <td>131</td>\n",
       "      <td>80</td>\n",
       "      <td>43</td>\n",
       "      <td>244715</td>\n",
       "      <td>2020-12-16 19:10:21</td>\n",
       "    </tr>\n",
       "    <tr>\n",
       "      <th>10</th>\n",
       "      <td>Ecuavisa</td>\n",
       "      <td>Twitter Media Studio - LiveCut</td>\n",
       "      <td>103</td>\n",
       "      <td>33</td>\n",
       "      <td>46</td>\n",
       "      <td>2487847</td>\n",
       "      <td>2020-12-17 19:02:34</td>\n",
       "    </tr>\n",
       "    <tr>\n",
       "      <th>11</th>\n",
       "      <td>Riesgos Ecuador</td>\n",
       "      <td>Twitter Web App</td>\n",
       "      <td>140</td>\n",
       "      <td>32</td>\n",
       "      <td>21</td>\n",
       "      <td>585984</td>\n",
       "      <td>2020-12-14 12:45:07</td>\n",
       "    </tr>\n",
       "    <tr>\n",
       "      <th>12</th>\n",
       "      <td>cnegobec</td>\n",
       "      <td>Twitter Web App</td>\n",
       "      <td>140</td>\n",
       "      <td>41</td>\n",
       "      <td>19</td>\n",
       "      <td>244715</td>\n",
       "      <td>2020-12-14 14:13:53</td>\n",
       "    </tr>\n",
       "  </tbody>\n",
       "</table>\n",
       "</div>"
      ],
      "text/plain": [
       "                    Usuario                          Fuente  Longitud  RTs  \\\n",
       "0               El Universo                  Hootsuite Inc.       139   47   \n",
       "1                  cnegobec             Twitter for Android       127   22   \n",
       "2               El Universo                  Hootsuite Inc.       140   23   \n",
       "3   Movimiento Alianza PAIS              Twitter for iPhone       139   24   \n",
       "4           Policía Ecuador             Twitter for Android       140    8   \n",
       "5              Andrés Arauz              Twitter for iPhone       140  755   \n",
       "6   Movimiento Alianza PAIS             Twitter for Android       139   25   \n",
       "7              Andrés Arauz              Twitter for iPhone       140  391   \n",
       "8           Riesgos Ecuador                 Twitter Web App       140   23   \n",
       "9                  cnegobec             Twitter for Android       131   80   \n",
       "10                 Ecuavisa  Twitter Media Studio - LiveCut       103   33   \n",
       "11          Riesgos Ecuador                 Twitter Web App       140   32   \n",
       "12                 cnegobec                 Twitter Web App       140   41   \n",
       "\n",
       "    Likes  seguidores               Fecha  \n",
       "0     296     2214479 2020-12-20 13:40:03  \n",
       "1      11      244715 2020-12-20 13:50:33  \n",
       "2     167     2214479 2020-12-20 17:01:24  \n",
       "3      26      309652 2020-12-19 21:57:46  \n",
       "4      26     1111892 2020-12-20 23:11:19  \n",
       "5    1856       55903 2020-12-16 17:44:42  \n",
       "6      29      309652 2020-12-18 22:29:34  \n",
       "7    1236       55903 2020-12-18 03:55:04  \n",
       "8      11      585984 2020-12-18 21:03:42  \n",
       "9      43      244715 2020-12-16 19:10:21  \n",
       "10     46     2487847 2020-12-17 19:02:34  \n",
       "11     21      585984 2020-12-14 12:45:07  \n",
       "12     19      244715 2020-12-14 14:13:53  "
      ]
     },
     "execution_count": 19,
     "metadata": {},
     "output_type": "execute_result"
    }
   ],
   "source": [
    "df = pd.DataFrame({'Usuario': list(map(lambda twee: twee.author.name , ts)),\n",
    "                   'Fuente': list(map(lambda twee:twee.source,ts)),\n",
    "                   'Longitud': list(map(lambda twee: len(twee.text), ts)),\n",
    "                   'RTs': list(map(lambda twee: twee.retweet_count, ts)),\n",
    "                   'Likes': list(map(lambda twee: twee.favorite_count, ts)),\n",
    "                   'seguidores': list(map(lambda twee: twee.author.followers_count, ts)),\n",
    "                   'Fecha': list(map(lambda twee: twee.created_at, ts))})\n",
    "df['Fecha'] =pd.to_datetime(df.Fecha)\n",
    "df.sort_values(by='seguidores') \n",
    "df"
   ]
  },
  {
   "cell_type": "code",
   "execution_count": 7,
   "metadata": {},
   "outputs": [
    {
     "data": {
      "text/plain": [
       "<AxesSubplot:xlabel='seguidores'>"
      ]
     },
     "execution_count": 7,
     "metadata": {},
     "output_type": "execute_result"
    },
    {
     "data": {
      "image/png": "[encoded data removed]",
      "text/plain": [
       "<Figure size 432x288 with 1 Axes>"
      ]
     },
     "metadata": {
      "needs_background": "light"
     },
     "output_type": "display_data"
    }
   ],
   "source": [
    "df1 = df.iloc[:, 2:7].cumsum()\n",
    "df1.plot(x='seguidores', y=['Likes','RTs', 'Longitud'])"
   ]
  },
  {
   "cell_type": "code",
   "execution_count": 92,
   "metadata": {},
   "outputs": [
    {
     "data": {
      "image/png": "[encoded data removed]",
      "text/plain": [
       "<Figure size 1152x648 with 4 Axes>"
      ]
     },
     "metadata": {},
     "output_type": "display_data"
    }
   ],
   "source": [
    "plt.bar(['post_id','post_url', 'time'],1).hist()\n",
    "plt.show()"
   ]
  },
  {
   "cell_type": "markdown",
   "metadata": {},
   "source": [
    "#### Metodo de regresion Lineal"
   ]
  },
  {
   "cell_type": "code",
   "execution_count": 8,
   "metadata": {},
   "outputs": [
    {
     "data": {
      "text/html": [
       "<div>\n",
       "<style scoped>\n",
       "    .dataframe tbody tr th:only-of-type {\n",
       "        vertical-align: middle;\n",
       "    }\n",
       "\n",
       "    .dataframe tbody tr th {\n",
       "        vertical-align: top;\n",
       "    }\n",
       "\n",
       "    .dataframe thead th {\n",
       "        text-align: right;\n",
       "    }\n",
       "</style>\n",
       "<table border=\"1\" class=\"dataframe\">\n",
       "  <thead>\n",
       "    <tr style=\"text-align: right;\">\n",
       "      <th></th>\n",
       "      <th>Likes</th>\n",
       "      <th>sum</th>\n",
       "    </tr>\n",
       "  </thead>\n",
       "  <tbody>\n",
       "    <tr>\n",
       "      <th>0</th>\n",
       "      <td>296</td>\n",
       "      <td>343</td>\n",
       "    </tr>\n",
       "    <tr>\n",
       "      <th>1</th>\n",
       "      <td>307</td>\n",
       "      <td>376</td>\n",
       "    </tr>\n",
       "    <tr>\n",
       "      <th>2</th>\n",
       "      <td>474</td>\n",
       "      <td>566</td>\n",
       "    </tr>\n",
       "    <tr>\n",
       "      <th>3</th>\n",
       "      <td>500</td>\n",
       "      <td>616</td>\n",
       "    </tr>\n",
       "    <tr>\n",
       "      <th>4</th>\n",
       "      <td>526</td>\n",
       "      <td>650</td>\n",
       "    </tr>\n",
       "    <tr>\n",
       "      <th>5</th>\n",
       "      <td>2382</td>\n",
       "      <td>3261</td>\n",
       "    </tr>\n",
       "    <tr>\n",
       "      <th>6</th>\n",
       "      <td>2411</td>\n",
       "      <td>3315</td>\n",
       "    </tr>\n",
       "    <tr>\n",
       "      <th>7</th>\n",
       "      <td>3647</td>\n",
       "      <td>4942</td>\n",
       "    </tr>\n",
       "    <tr>\n",
       "      <th>8</th>\n",
       "      <td>3658</td>\n",
       "      <td>4976</td>\n",
       "    </tr>\n",
       "    <tr>\n",
       "      <th>9</th>\n",
       "      <td>3701</td>\n",
       "      <td>5099</td>\n",
       "    </tr>\n",
       "    <tr>\n",
       "      <th>10</th>\n",
       "      <td>3747</td>\n",
       "      <td>5178</td>\n",
       "    </tr>\n",
       "    <tr>\n",
       "      <th>11</th>\n",
       "      <td>3768</td>\n",
       "      <td>5231</td>\n",
       "    </tr>\n",
       "    <tr>\n",
       "      <th>12</th>\n",
       "      <td>3787</td>\n",
       "      <td>5291</td>\n",
       "    </tr>\n",
       "  </tbody>\n",
       "</table>\n",
       "</div>"
      ],
      "text/plain": [
       "    Likes   sum\n",
       "0     296   343\n",
       "1     307   376\n",
       "2     474   566\n",
       "3     500   616\n",
       "4     526   650\n",
       "5    2382  3261\n",
       "6    2411  3315\n",
       "7    3647  4942\n",
       "8    3658  4976\n",
       "9    3701  5099\n",
       "10   3747  5178\n",
       "11   3768  5231\n",
       "12   3787  5291"
      ]
     },
     "execution_count": 8,
     "metadata": {},
     "output_type": "execute_result"
    }
   ],
   "source": [
    "df1[\"sum\"] = df1[['Likes','RTs']].sum(axis=1)\n",
    "df2 = df1.iloc[:, [2,5]]\n",
    "df2"
   ]
  },
  {
   "cell_type": "code",
   "execution_count": 9,
   "metadata": {},
   "outputs": [
    {
     "name": "stdout",
     "output_type": "stream",
     "text": [
      "Ecua: Z= 1.39839329110204 * 236 + -76.51366718030567\n",
      "Prediccion:  253.5071495197758\n"
     ]
    },
    {
     "data": {
      "image/png": "[encoded data removed]",
      "text/plain": [
       "<Figure size 432x288 with 1 Axes>"
      ]
     },
     "metadata": {
      "needs_background": "light"
     },
     "output_type": "display_data"
    }
   ],
   "source": [
    "x = list(df2.iloc [:, 0]) # likes\n",
    "y = list(df2.iloc [:, 1]) # Total\n",
    "\n",
    "def promedio(x,y): \n",
    "    return sum(x) / len(y)\n",
    "\n",
    "def operacion1(x,y):\n",
    "    #obtiene x menos el promedio de x\n",
    "    a = x-np.average(x)\n",
    "    b = y-np.average(y)\n",
    "    promxy = sum(a*b)\n",
    "    promxx = sum(a*a)\n",
    "    result =promxy/promxx\n",
    "    return result\n",
    "\n",
    "def operacion0(x,y):\n",
    "    res = np.average(y)-operacion1(x,y)*np.average(x)\n",
    "    return res\n",
    "\n",
    "z = api.get_user('XimenaPenaP').followers_count\n",
    "\n",
    "\n",
    "def graficar(x,y,z):\n",
    "    b1 =operacion1(x,y)\n",
    "    b0 =operacion0(x,y)\n",
    "    predecir= b1*z+b0\n",
    "    puntos_x = np.linspace(x[0],x[-1],6)\n",
    "    puntos_y = b0+b1*puntos_x\n",
    "    print(\"Ecua:\", 'Z=',b1,'*',z,'+',b0)\n",
    "    print('Prediccion: ',predecir)\n",
    "    plt.plot(puntos_x,puntos_y,)\n",
    "    plt.plot(x,y,\"o\", color='red') \n",
    "    plt.grid()\n",
    "if __name__==\"__main__\":\n",
    "    graficar(x,y,z)"
   ]
  },
  {
   "cell_type": "markdown",
   "metadata": {},
   "source": [
    "**Metodo Polinomial**"
   ]
  },
  {
   "cell_type": "code",
   "execution_count": 56,
   "metadata": {},
   "outputs": [
    {
     "data": {
      "image/png": "[encoded data removed]",
      "text/plain": [
       "<Figure size 432x288 with 1 Axes>"
      ]
     },
     "metadata": {
      "needs_background": "light"
     },
     "output_type": "display_data"
    }
   ],
   "source": [
    "\n",
    "pf = PolynomialFeatures(degree = 4)\n",
    "X = pf.fit_transform(np.array(x).reshape(-1, 1))\n",
    "regresion_lineal = LinearRegression()\n",
    "regresion_lineal.fit(X, y) \n",
    "pred_x = list(range(0,max(x)+30))\n",
    "prediccion = regresion_lineal.predict(puntos)\n",
    "\n",
    "def graficar(x,y,z):\n",
    "    plt.plot(pred_x, prediccion, color='black')\n",
    "    plt.scatter(x,y,color=\"red\")\n",
    "    plt.plot(z,prediccion[z], 'o')\n",
    "    plt.grid()\n",
    "    plt.plot('N° Segidores: ' + str(z))\n",
    "\n",
    "if __name__==\"__main__\":\n",
    "    graficar(x,y,z)\n",
    "\n",
    "    \n"
   ]
  },
  {
   "cell_type": "markdown",
   "metadata": {},
   "source": [
    "**Eneventos Discretos**"
   ]
  },
  {
   "cell_type": "code",
   "execution_count": 165,
   "metadata": {
    "scrolled": true
   },
   "outputs": [
    {
     "name": "stdout",
     "output_type": "stream",
     "text": [
      "<class 'list'>\n",
      "           0                   1                    2                    3  \\\n",
      "0    Usuario      Tiempo llegada     Tiempo de espera         Votando.....   \n",
      "1          0                   0  0.13436424411240122   0.8474337369372327   \n",
      "2          1   0.763774618976614  0.21802336207301987   0.2550690257394217   \n",
      "3          2   1.259209706068555                  0.0   0.4494910647887381   \n",
      "4          3   1.910802678791318                  0.0   0.7887233511355132   \n",
      "..       ...                 ...                  ...                  ...   \n",
      "346      345   175.5900438595973                  0.0   0.7446142679398566   \n",
      "347      346  176.27681523615598                  0.0   0.8456227719182262   \n",
      "348      347  176.93983142465467                  0.0  0.38970192767534384   \n",
      "349      348   177.5708944483707                  0.0   0.9695948083687032   \n",
      "350      349  178.21249778139395                  0.0  0.24309173409213014   \n",
      "\n",
      "                      4  \n",
      "0      Termina de votar  \n",
      "1    0.9817979810496339  \n",
      "2    0.9817979810496339  \n",
      "3    0.9817979810496339  \n",
      "4    1.2368670067890557  \n",
      "..                  ...  \n",
      "346    85.8988564581215  \n",
      "347    85.8988564581215  \n",
      "348   86.64080640847332  \n",
      "349   86.64080640847332  \n",
      "350    87.4413673817367  \n",
      "\n",
      "[351 rows x 5 columns]\n",
      "Simulacion con  0\n",
      "Simulacion con  100\n",
      "Simulacion con  200\n",
      "Simulacion con  300\n",
      "Simulacion con  400\n",
      "Simulacion con  500\n",
      "Simulacion con  600\n",
      "Simulacion con  700\n",
      "Simulacion con  800\n",
      "Simulacion con  900\n",
      "GUILLERMO LASSO gana con el: 29.352020202020203 %\n",
      "PAÚL CARRASCO gana con el: 69.04107744107745 %\n"
     ]
    }
   ],
   "source": [
    "def votacion():\n",
    "    i=0\n",
    "    votantes = []\n",
    "    tiempos_llegada = []\n",
    "    tiempos_espera = []\n",
    "    tiempos_votando = []\n",
    "    tiempos_dando_papeletas =[]\n",
    "    salida = []\n",
    "    random.seed(1) \n",
    "    numero_votantes_mesa = 350\n",
    "    lista_total=[['Usuario','Tiempo llegada','Tiempo de espera','Votando.....','Termina de votar']]\n",
    "    random.seed(1)\n",
    "    lasso_digits = [0, 0, 0, 0, 0, 0, 0, 0, 0, 0]\n",
    "    carrasco_digits = [0, 0, 0, 0, 0, 0, 0, 0, 0, 0]\n",
    "    lasso_win_pct = 69.13\n",
    "    carrasco_win_pct = 29.28\n",
    "    number_of_sims = 1000\n",
    "    total_wards = 0\n",
    "    total_carrasco_votes = 0\n",
    "    total_lasso_votes = 0\n",
    "    total_votes = 0\n",
    "   \n",
    "    while(i<numero_votantes_mesa):\n",
    "            if(i==0):\n",
    "                votantes.append(i)\n",
    "                tiempos_llegada.append(i)\n",
    "                tiempos_espera.append(random.random())\n",
    "                tiempos_votando.append(random.random())\n",
    "                tiempos_dando_papeletas.append(i)\n",
    "                tiempo_salida =tiempos_llegada[i] + tiempos_espera[i] + tiempos_votando[i]\n",
    "            salida.append(tiempo_salida)\n",
    "            if(i>=1):\n",
    "                votantes.append(i)\n",
    "                tiempos_llegada.append(tiempos_llegada[i-1]+random.random())\n",
    "                tiempos_espera.append(max(salida[i-1],tiempos_llegada[i])-tiempos_llegada[i])\n",
    "                tiempos_votando.append(random.random())\n",
    "                tiempos_dando_papeletas.append(max(salida[i-1],tiempos_llegada[i])-salida[i-1])\n",
    "                tiempo_salida =tiempos_llegada[i] + tiempos_espera[i] + tiempos_votando[i]\n",
    "            salida.append(tiempo_salida)\n",
    "            i=i+1\n",
    "    i=0\n",
    "    \n",
    "    while(i<numero_votantes_mesa):\n",
    "        lista=[str(votantes[i]).format(2/3),str(tiempos_llegada[i]).format(10/3).format(10/3),str(tiempos_espera[i]).format(10/3),str(tiempos_votando[i]).format(10/3),str(salida[i]).format(10/3)]\n",
    "        lista_total.append(lista)\n",
    "        i=i+1\n",
    "    print(type(lista_total)) \n",
    "    data=pd.DataFrame(lista_total)\n",
    "    print(data)\n",
    "votacion()\n",
    "\n",
    "for i in range(number_of_sims):\n",
    "    my_input = open('shares.txt')\n",
    "    for line in my_input:\n",
    "        total_wards += 1\n",
    "        fields = line.strip().split()\n",
    "        num_voters = int(fields[0])\n",
    "        carrasco_votes_in_ward = 0\n",
    "        lasso_votes_in_ward = 0\n",
    "        for j in range(num_voters):\n",
    "            random_num = random.random() * 100\n",
    "            if random_num <= lasso_win_pct:\n",
    "                lasso_votes_in_ward += 1\n",
    "                total_lasso_votes += 1\n",
    "            elif random_num <= (lasso_win_pct + carrasco_win_pct) :\n",
    "                carrasco_votes_in_ward += 1\n",
    "                total_carrasco_votes += 1\n",
    "            total_votes += 1\n",
    "        carrasco_digit = int(str(carrasco_votes_in_ward)[0])\n",
    "        lasso_digit = int(str(lasso_votes_in_ward)[0])\n",
    "        carrasco_digits[carrasco_digit] += 1\n",
    "        lasso_digits[lasso_digit] += 1\n",
    "    if i % 100 == 0:\n",
    "        print('Simulacion con ', i)\n",
    "\n",
    "carrasco_win_pct = 100.0 * total_carrasco_votes / total_votes\n",
    "lasso_win_pct = 100.0 * total_lasso_votes / total_votes\n",
    "print('Guillermo Lazo gana con el:', carrasco_win_pct , '%')\n",
    "print('Paul Carrasco gana con el:', lasso_win_pct, '%')"
   ]
  },
  {
   "cell_type": "markdown",
   "metadata": {},
   "source": [
    "#### Referencias:\n",
    "\n",
    "* https://www.ncbi.nlm.nih.gov/pmc/articles/PMC6291769/\n",
    "* https://www.aprendemachinelearning.com/regresion-lineal-en-espanol-con-python/\n",
    "* https://eprints.ucm.es/48804/1/TFM%20Manuel%20Alejandro%20Rodriguez%20Santana.pdf\n",
    "* http://opac.pucv.cl/pucv_txt/txt-8000/UCC8094_01.pdf\n",
    "\n"
   ]
  },
  {
   "cell_type": "code",
   "execution_count": null,
   "metadata": {},
   "outputs": [],
   "source": []
  }
 ],
 "metadata": {
  "kernelspec": {
   "display_name": "Python 3",
   "language": "python",
   "name": "python3"
  },
  "language_info": {
   "codemirror_mode": {
    "name": "ipython",
    "version": 3
   },
   "file_extension": ".py",
   "mimetype": "text/x-python",
   "name": "python",
   "nbconvert_exporter": "python",
   "pygments_lexer": "ipython3",
   "version": "3.8.5"
  }
 },
 "nbformat": 4,
 "nbformat_minor": 4
}
